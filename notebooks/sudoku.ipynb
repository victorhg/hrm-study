{
 "cells": [
  {
   "cell_type": "markdown",
   "id": "4ea14cfc",
   "metadata": {},
   "source": [
    "Generate Sudoku Games"
   ]
  },
  {
   "cell_type": "code",
   "execution_count": 1,
   "id": "79cd09bb",
   "metadata": {},
   "outputs": [
    {
     "name": "stdout",
     "output_type": "stream",
     "text": [
      "\n",
      "INPUT (_ = blank)        SOLUTION\n",
      "  0 1 2 3 4 5 6 7 8      0 1 2 3 4 5 6 7 8\n",
      "  -----------------      -----------------\n",
      "0| _ _ _ _ _ _ _ _ _    0| 8 1 4 6 2 3 5 9 7\n",
      "1| _ _ 5 _ _ _ _ _ _    1| 3 7 5 4 8 9 2 6 1\n",
      "2| 2 _ 9 _ _ _ 3 _ _    2| 2 6 9 1 7 5 3 4 8\n",
      "3| _ _ _ _ _ _ _ 1 _    3| 5 2 8 3 6 7 9 1 4\n",
      "4| _ _ _ _ _ _ 7 _ _    4| 4 3 1 9 5 8 7 2 6\n",
      "5| 7 9 _ 2 1 4 8 _ _    5| 7 9 6 2 1 4 8 5 3\n",
      "6| _ _ 3 _ _ _ _ _ _    6| 1 5 3 8 4 2 6 7 9\n",
      "7| _ _ _ 7 _ _ _ _ _    7| 9 4 2 7 3 6 1 8 5\n",
      "8| 6 8 _ _ _ _ 4 _ _    8| 6 8 7 5 9 1 4 3 2\n",
      "\n",
      "Statistics: 17 filled, 64 blank cells\n"
     ]
    }
   ],
   "source": [
    "import random\n",
    "import numpy as np\n",
    "from tqdm import tqdm\n",
    "import dataset.sudoku as sudoku\n",
    "\n",
    "solution = sudoku.build_board()\n",
    "puzzle = sudoku.generate_puzzle(solution, difficulty=0.8)\n",
    "\n",
    "sudoku.display_puzzle_pair(puzzle, solution)"
   ]
  },
  {
   "cell_type": "markdown",
   "id": "ef052310",
   "metadata": {},
   "source": [
    "Build dataset"
   ]
  },
  {
   "cell_type": "code",
   "execution_count": 2,
   "id": "8638e219",
   "metadata": {},
   "outputs": [
    {
     "name": "stderr",
     "output_type": "stream",
     "text": [
      "100%|██████████| 100/100 [00:00<00:00, 150.07it/s]\n",
      "100%|██████████| 100/100 [00:00<00:00, 150.07it/s]\n"
     ]
    }
   ],
   "source": [
    "# Generate a thousand pairs of puzzle/solutions\n",
    "\n",
    "\n",
    "number_of_pairs = 100\n",
    "\n",
    "dataset = dict()\n",
    "\n",
    "for puzzle_ID in tqdm(range(number_of_pairs)):\n",
    "    pass\n",
    "    solution = np.array(sudoku.build_board())\n",
    "    puzzle = np.array(sudoku.generate_puzzle(solution, difficulty=0.7))\n",
    "    dataset[puzzle_ID] = {\n",
    "        \"id\": puzzle_ID,\n",
    "        \"puzzle\": puzzle.flatten(),\n",
    "        \"solution\": solution.flatten()\n",
    "    }\n",
    "\n",
    "np.save(\"./data/sudoku_dataset.npy\", dataset)\n"
   ]
  },
  {
   "cell_type": "code",
   "execution_count": 3,
   "id": "082da089",
   "metadata": {},
   "outputs": [
    {
     "name": "stderr",
     "output_type": "stream",
     "text": [
      "100%|██████████| 2/2 [00:00<00:00, 258.30it/s]\n",
      "\n"
     ]
    },
    {
     "data": {
      "text/plain": [
       "{0: {'id': 0,\n",
       "  'puzzle': array([0, 0, 0, 3, 0, 0, 0, 7, 0, 1, 2, 7, 6, 9, 5, 0, 0, 3, 8, 0, 0, 0,\n",
       "         0, 7, 0, 6, 1, 2, 0, 8, 5, 1, 4, 6, 0, 7, 4, 0, 0, 9, 2, 3, 0, 5,\n",
       "         0, 9, 1, 5, 0, 0, 0, 0, 0, 4, 0, 0, 0, 0, 5, 0, 0, 3, 6, 3, 6, 0,\n",
       "         1, 7, 0, 0, 0, 0, 0, 8, 2, 0, 0, 6, 7, 1, 0]),\n",
       "  'solution': array([6, 9, 4, 3, 8, 1, 5, 7, 2, 1, 2, 7, 6, 9, 5, 4, 8, 3, 8, 5, 3, 2,\n",
       "         4, 7, 9, 6, 1, 2, 3, 8, 5, 1, 4, 6, 9, 7, 4, 7, 6, 9, 2, 3, 1, 5,\n",
       "         8, 9, 1, 5, 7, 6, 8, 3, 2, 4, 7, 4, 1, 8, 5, 9, 2, 3, 6, 3, 6, 9,\n",
       "         1, 7, 2, 8, 4, 5, 5, 8, 2, 4, 3, 6, 7, 1, 9])},\n",
       " 1: {'id': 1,\n",
       "  'puzzle': array([8, 7, 0, 0, 0, 0, 1, 0, 6, 5, 0, 1, 0, 9, 0, 0, 4, 0, 0, 0, 4, 0,\n",
       "         0, 0, 2, 7, 0, 0, 0, 0, 0, 7, 5, 9, 1, 0, 1, 9, 0, 0, 0, 8, 7, 6,\n",
       "         0, 6, 0, 0, 0, 3, 0, 8, 0, 0, 9, 1, 6, 5, 0, 7, 4, 0, 2, 7, 8, 2,\n",
       "         3, 0, 4, 0, 9, 0, 4, 3, 5, 0, 0, 0, 0, 8, 7]),\n",
       "  'solution': array([8, 7, 9, 2, 4, 3, 1, 5, 6, 5, 2, 1, 7, 9, 6, 3, 4, 8, 3, 6, 4, 8,\n",
       "         5, 1, 2, 7, 9, 2, 4, 8, 6, 7, 5, 9, 1, 3, 1, 9, 3, 4, 2, 8, 7, 6,\n",
       "         5, 6, 5, 7, 1, 3, 9, 8, 2, 4, 9, 1, 6, 5, 8, 7, 4, 3, 2, 7, 8, 2,\n",
       "         3, 6, 4, 5, 9, 1, 4, 3, 5, 9, 1, 2, 6, 8, 7])}}"
      ]
     },
     "execution_count": 3,
     "metadata": {},
     "output_type": "execute_result"
    }
   ],
   "source": [
    "\n",
    "def generate_sudoku_field(sample_size: int, difficulty: float) -> dict:\n",
    "    \"\"\"Generate a Sudoku puzzle and its solution.\"\"\"\n",
    "    # 2. create sample_size base examples with config.difficulty\n",
    "  \n",
    "    dataset = dict()\n",
    "    for puzzle_ID in tqdm(range(sample_size)):\n",
    "        solution = np.array(sudoku.build_board())\n",
    "\n",
    "        puzzle = np.array(sudoku.generate_puzzle(solution.copy(), difficulty=(difficulty/10)))\n",
    "        dataset[puzzle_ID] = {\n",
    "            \"id\": puzzle_ID,\n",
    "            \"puzzle\": puzzle.flatten(),\n",
    "            \"solution\": solution.flatten()\n",
    "        }\n",
    "    \n",
    "    return dataset\n",
    "\n",
    "\n",
    "generate_sudoku_field(2, 5)"
   ]
  },
  {
   "cell_type": "code",
   "execution_count": null,
   "id": "47f64c26",
   "metadata": {},
   "outputs": [],
   "source": []
  }
 ],
 "metadata": {
  "kernelspec": {
   "display_name": "hrm",
   "language": "python",
   "name": "python3"
  },
  "language_info": {
   "codemirror_mode": {
    "name": "ipython",
    "version": 3
   },
   "file_extension": ".py",
   "mimetype": "text/x-python",
   "name": "python",
   "nbconvert_exporter": "python",
   "pygments_lexer": "ipython3",
   "version": "3.12.11"
  }
 },
 "nbformat": 4,
 "nbformat_minor": 5
}
