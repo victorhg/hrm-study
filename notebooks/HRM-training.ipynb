{
 "cells": [
  {
   "cell_type": "markdown",
   "id": "0dd58118",
   "metadata": {},
   "source": [
    "HRM Training Process"
   ]
  },
  {
   "cell_type": "code",
   "execution_count": null,
   "id": "88af0aa6",
   "metadata": {
    "vscode": {
     "languageId": "plaintext"
    }
   },
   "outputs": [],
   "source": []
  }
 ],
 "metadata": {
  "language_info": {
   "name": "python"
  }
 },
 "nbformat": 4,
 "nbformat_minor": 5
}
