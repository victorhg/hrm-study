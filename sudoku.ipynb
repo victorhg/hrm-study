{
 "cells": [
  {
   "cell_type": "markdown",
   "id": "4ea14cfc",
   "metadata": {},
   "source": [
    "Generate Sudoku Games"
   ]
  },
  {
   "cell_type": "code",
   "execution_count": 2,
   "id": "79cd09bb",
   "metadata": {},
   "outputs": [
    {
     "name": "stdout",
     "output_type": "stream",
     "text": [
      "  -----------------      -----------------\n",
      "  Input Puzzle         Solution\n",
      "\n",
      "INPUT (_ = blank)        SOLUTION\n",
      "  0 1 2 3 4 5 6 7 8      0 1 2 3 4 5 6 7 8\n",
      "  -----------------      -----------------\n",
      "0| _ 1 _ _ _ _ 4 _ _    0| 6 1 3 5 8 7 4 2 9\n",
      "1| _ _ _ _ 1 _ _ _ _    1| 4 5 2 9 1 3 8 7 6\n",
      "2| _ 9 _ _ 4 _ _ 3 1    2| 7 9 8 2 4 6 5 3 1\n",
      "3| _ _ _ _ _ _ _ 1 _    3| 3 8 6 7 9 5 2 1 4\n",
      "4| _ 2 _ _ _ _ _ _ _    4| 1 2 7 6 3 4 9 5 8\n",
      "5| _ _ _ _ 2 _ _ _ _    5| 9 4 5 8 2 1 3 6 7\n",
      "6| _ _ 4 _ _ _ 7 _ 5    6| 8 3 4 1 6 2 7 9 5\n",
      "7| 2 7 _ _ 5 9 _ _ _    7| 2 7 1 4 5 9 6 8 3\n",
      "8| _ _ _ _ _ _ _ _ _    8| 5 6 9 3 7 8 1 4 2\n",
      "\n",
      "Statistics: 17 filled, 64 blank cells\n"
     ]
    }
   ],
   "source": [
    "import random\n",
    "import numpy as np\n",
    "\n",
    "import sudoku\n",
    "\n",
    "solution = sudoku.build_board()\n",
    "puzzle = sudoku.generate_puzzle(solution, difficulty=0.8)\n",
    "\n",
    "sudoku.display_puzzle_pair(puzzle, solution)"
   ]
  },
  {
   "cell_type": "markdown",
   "id": "ef052310",
   "metadata": {},
   "source": [
    "Build dataset"
   ]
  },
  {
   "cell_type": "code",
   "execution_count": null,
   "id": "8638e219",
   "metadata": {},
   "outputs": [],
   "source": []
  }
 ],
 "metadata": {
  "kernelspec": {
   "display_name": "hrm",
   "language": "python",
   "name": "python3"
  },
  "language_info": {
   "codemirror_mode": {
    "name": "ipython",
    "version": 3
   },
   "file_extension": ".py",
   "mimetype": "text/x-python",
   "name": "python",
   "nbconvert_exporter": "python",
   "pygments_lexer": "ipython3",
   "version": "3.12.11"
  }
 },
 "nbformat": 4,
 "nbformat_minor": 5
}
